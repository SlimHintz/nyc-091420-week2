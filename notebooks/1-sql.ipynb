{
 "cells": [
  {
   "cell_type": "markdown",
   "metadata": {},
   "source": [
    "# SQL 📚"
   ]
  },
  {
   "cell_type": "markdown",
   "metadata": {},
   "source": [
    "## Your Tasks:\n",
    "\n",
    "**Please deliver the following:** \n",
    "\n",
    "1. A function named `stocks` that returns a dataframe of all stock prices for a given year. This function should have one argument: `year`.\n",
    "    - Drop all null values from this dataframe. \n",
    "    - Use this function to create a dataframe of 2017 stock prices.\n",
    "    \n",
    "2. Please create a file named `data_collection.py` within the `src` folder containing this function. \n",
    "3. Create a function called `begins_with_count`\n",
    "    - This function should receive a letter and return the number of companies that begin with the given letter.\n",
    "4. Create a histogram visualizing the distribution of these counts for every letter in the alphabet.\n",
    "5. Interpret the histogram.\n",
    "\n",
    "### How do I do this?\n",
    "\n",
    "You have been given a database called `stocks.db` within the [data/](data/) folder of this repo. \n",
    "- This database contains the opening and closing prices for the S&P 500 from 2013-2018.\n",
    "\n",
    "You will need to open up a connection to this database, construct an approproate SQL query, and move this code into a `stocks` function. Other than pulling the data from the database, how much SQL and how much pandas you use will be up to you. "
   ]
  },
  {
   "cell_type": "markdown",
   "metadata": {},
   "source": [
    "<center><h3>DATABASE SCHEMA</h3></center>\n",
    "\n",
    "<img src=\"../static/db_schema.png\" width=500 height=500>"
   ]
  },
  {
   "cell_type": "markdown",
   "metadata": {},
   "source": [
    "Please complete the assigned task below:"
   ]
  },
  {
   "cell_type": "code",
   "execution_count": 44,
   "metadata": {},
   "outputs": [],
   "source": [
    "import sqlite3\n",
    "import pandas as pd\n",
    "import string"
   ]
  },
  {
   "cell_type": "code",
   "execution_count": 45,
   "metadata": {},
   "outputs": [],
   "source": [
    "conn = sqlite3.connect('../data/stocks.db')\n",
    "c = conn.cursor()"
   ]
  },
  {
   "cell_type": "code",
   "execution_count": 46,
   "metadata": {},
   "outputs": [],
   "source": [
    "year_query = f\"\"\"SELECT * FROM price \n",
    "                LEFT JOIN date \n",
    "                ON date.id = price.id\n",
    "                WHERE date.date LIKE '2017%';\"\"\"\n",
    "c.description"
   ]
  },
  {
   "cell_type": "code",
   "execution_count": 66,
   "metadata": {},
   "outputs": [],
   "source": [
    "def stocks(year):\n",
    "    year_query = f\"\"\"SELECT price.id, price.open, price.close, date.date, company.name, company.id as 'company_id'\n",
    "                FROM price \n",
    "                JOIN date \n",
    "                ON date.id = price.id\n",
    "                JOIN company\n",
    "                ON company.id = price.company_id\n",
    "                WHERE date.date LIKE '{year}%';\"\"\"\n",
    "    df = pd.DataFrame(c.execute(year_query))\n",
    "    df.dropna()\n",
    "    df. columns = [col[0] for col in c.description]\n",
    "    return df"
   ]
  },
  {
   "cell_type": "code",
   "execution_count": 71,
   "metadata": {},
   "outputs": [
    {
     "data": {
      "text/html": [
       "<div>\n",
       "<style scoped>\n",
       "    .dataframe tbody tr th:only-of-type {\n",
       "        vertical-align: middle;\n",
       "    }\n",
       "\n",
       "    .dataframe tbody tr th {\n",
       "        vertical-align: top;\n",
       "    }\n",
       "\n",
       "    .dataframe thead th {\n",
       "        text-align: right;\n",
       "    }\n",
       "</style>\n",
       "<table border=\"1\" class=\"dataframe\">\n",
       "  <thead>\n",
       "    <tr style=\"text-align: right;\">\n",
       "      <th></th>\n",
       "      <th>id</th>\n",
       "      <th>open</th>\n",
       "      <th>close</th>\n",
       "      <th>date</th>\n",
       "      <th>name</th>\n",
       "      <th>company_id</th>\n",
       "    </tr>\n",
       "  </thead>\n",
       "  <tbody>\n",
       "    <tr>\n",
       "      <th>0</th>\n",
       "      <td>983</td>\n",
       "      <td>68.7900</td>\n",
       "      <td>68.6800</td>\n",
       "      <td>2017-01-03 00:00:00</td>\n",
       "      <td>BAX</td>\n",
       "      <td>42</td>\n",
       "    </tr>\n",
       "    <tr>\n",
       "      <th>1</th>\n",
       "      <td>984</td>\n",
       "      <td>36.3048</td>\n",
       "      <td>36.3524</td>\n",
       "      <td>2017-01-04 00:00:00</td>\n",
       "      <td>VFC</td>\n",
       "      <td>211</td>\n",
       "    </tr>\n",
       "    <tr>\n",
       "      <th>2</th>\n",
       "      <td>985</td>\n",
       "      <td>95.5000</td>\n",
       "      <td>95.8700</td>\n",
       "      <td>2017-01-05 00:00:00</td>\n",
       "      <td>KSU</td>\n",
       "      <td>266</td>\n",
       "    </tr>\n",
       "    <tr>\n",
       "      <th>3</th>\n",
       "      <td>986</td>\n",
       "      <td>153.4900</td>\n",
       "      <td>152.3200</td>\n",
       "      <td>2017-01-06 00:00:00</td>\n",
       "      <td>ADS</td>\n",
       "      <td>174</td>\n",
       "    </tr>\n",
       "    <tr>\n",
       "      <th>4</th>\n",
       "      <td>987</td>\n",
       "      <td>74.7400</td>\n",
       "      <td>74.5800</td>\n",
       "      <td>2017-01-09 00:00:00</td>\n",
       "      <td>TMO</td>\n",
       "      <td>195</td>\n",
       "    </tr>\n",
       "    <tr>\n",
       "      <th>...</th>\n",
       "      <td>...</td>\n",
       "      <td>...</td>\n",
       "      <td>...</td>\n",
       "      <td>...</td>\n",
       "      <td>...</td>\n",
       "      <td>...</td>\n",
       "    </tr>\n",
       "    <tr>\n",
       "      <th>246</th>\n",
       "      <td>1229</td>\n",
       "      <td>23.5200</td>\n",
       "      <td>23.7500</td>\n",
       "      <td>2017-12-22 00:00:00</td>\n",
       "      <td>PGR</td>\n",
       "      <td>84</td>\n",
       "    </tr>\n",
       "    <tr>\n",
       "      <th>247</th>\n",
       "      <td>1230</td>\n",
       "      <td>62.0900</td>\n",
       "      <td>62.2000</td>\n",
       "      <td>2017-12-26 00:00:00</td>\n",
       "      <td>AXP</td>\n",
       "      <td>31</td>\n",
       "    </tr>\n",
       "    <tr>\n",
       "      <th>248</th>\n",
       "      <td>1231</td>\n",
       "      <td>14.6400</td>\n",
       "      <td>14.5000</td>\n",
       "      <td>2017-12-27 00:00:00</td>\n",
       "      <td>DAL</td>\n",
       "      <td>369</td>\n",
       "    </tr>\n",
       "    <tr>\n",
       "      <th>249</th>\n",
       "      <td>1232</td>\n",
       "      <td>32.8600</td>\n",
       "      <td>33.2600</td>\n",
       "      <td>2017-12-28 00:00:00</td>\n",
       "      <td>NLSN</td>\n",
       "      <td>368</td>\n",
       "    </tr>\n",
       "    <tr>\n",
       "      <th>250</th>\n",
       "      <td>1233</td>\n",
       "      <td>49.4400</td>\n",
       "      <td>49.3700</td>\n",
       "      <td>2017-12-29 00:00:00</td>\n",
       "      <td>IT</td>\n",
       "      <td>331</td>\n",
       "    </tr>\n",
       "  </tbody>\n",
       "</table>\n",
       "<p>251 rows × 6 columns</p>\n",
       "</div>"
      ],
      "text/plain": [
       "       id      open     close                 date  name  company_id\n",
       "0     983   68.7900   68.6800  2017-01-03 00:00:00   BAX          42\n",
       "1     984   36.3048   36.3524  2017-01-04 00:00:00   VFC         211\n",
       "2     985   95.5000   95.8700  2017-01-05 00:00:00   KSU         266\n",
       "3     986  153.4900  152.3200  2017-01-06 00:00:00   ADS         174\n",
       "4     987   74.7400   74.5800  2017-01-09 00:00:00   TMO         195\n",
       "..    ...       ...       ...                  ...   ...         ...\n",
       "246  1229   23.5200   23.7500  2017-12-22 00:00:00   PGR          84\n",
       "247  1230   62.0900   62.2000  2017-12-26 00:00:00   AXP          31\n",
       "248  1231   14.6400   14.5000  2017-12-27 00:00:00   DAL         369\n",
       "249  1232   32.8600   33.2600  2017-12-28 00:00:00  NLSN         368\n",
       "250  1233   49.4400   49.3700  2017-12-29 00:00:00    IT         331\n",
       "\n",
       "[251 rows x 6 columns]"
      ]
     },
     "execution_count": 71,
     "metadata": {},
     "output_type": "execute_result"
    }
   ],
   "source": [
    "stocks(2017)"
   ]
  },
  {
   "cell_type": "code",
   "execution_count": 67,
   "metadata": {},
   "outputs": [],
   "source": [
    "alphabet = string.ascii_uppercase"
   ]
  },
  {
   "cell_type": "code",
   "execution_count": 68,
   "metadata": {},
   "outputs": [],
   "source": [
    "def begins_with_count(letter,df):\n",
    "    first_letters = df['name'].apply(lambda x: x[0])\n",
    "    return first_letters.count(letter)\n"
   ]
  },
  {
   "cell_type": "code",
   "execution_count": 69,
   "metadata": {},
   "outputs": [],
   "source": [
    "alpha_list= [alpha for alpha in alphabet]"
   ]
  },
  {
   "cell_type": "code",
   "execution_count": 70,
   "metadata": {},
   "outputs": [
    {
     "data": {
      "text/plain": [
       "['A',\n",
       " 'B',\n",
       " 'C',\n",
       " 'D',\n",
       " 'E',\n",
       " 'F',\n",
       " 'G',\n",
       " 'H',\n",
       " 'I',\n",
       " 'J',\n",
       " 'K',\n",
       " 'L',\n",
       " 'M',\n",
       " 'N',\n",
       " 'O',\n",
       " 'P',\n",
       " 'Q',\n",
       " 'R',\n",
       " 'S',\n",
       " 'T',\n",
       " 'U',\n",
       " 'V',\n",
       " 'W',\n",
       " 'X',\n",
       " 'Y',\n",
       " 'Z']"
      ]
     },
     "execution_count": 70,
     "metadata": {},
     "output_type": "execute_result"
    }
   ],
   "source": [
    "alpha_list"
   ]
  },
  {
   "cell_type": "code",
   "execution_count": 64,
   "metadata": {},
   "outputs": [],
   "source": [
    "frequency_dict = {}\n",
    "for alpha in alpha_list:\n",
    "    frequency_dict[alpha] = 0"
   ]
  },
  {
   "cell_type": "code",
   "execution_count": 65,
   "metadata": {},
   "outputs": [
    {
     "data": {
      "text/plain": [
       "{'A': 0,\n",
       " 'B': 0,\n",
       " 'C': 0,\n",
       " 'D': 0,\n",
       " 'E': 0,\n",
       " 'F': 0,\n",
       " 'G': 0,\n",
       " 'H': 0,\n",
       " 'I': 0,\n",
       " 'J': 0,\n",
       " 'K': 0,\n",
       " 'L': 0,\n",
       " 'M': 0,\n",
       " 'N': 0,\n",
       " 'O': 0,\n",
       " 'P': 0,\n",
       " 'Q': 0,\n",
       " 'R': 0,\n",
       " 'S': 0,\n",
       " 'T': 0,\n",
       " 'U': 0,\n",
       " 'V': 0,\n",
       " 'W': 0,\n",
       " 'X': 0,\n",
       " 'Y': 0,\n",
       " 'Z': 0}"
      ]
     },
     "execution_count": 65,
     "metadata": {},
     "output_type": "execute_result"
    }
   ],
   "source": [
    "frequency_dict"
   ]
  },
  {
   "cell_type": "code",
   "execution_count": null,
   "metadata": {},
   "outputs": [],
   "source": [
    "def dict_update(string)\n",
    "    frequency_dict[string[0]] += 1"
   ]
  },
  {
   "cell_type": "code",
   "execution_count": null,
   "metadata": {},
   "outputs": [],
   "source": []
  }
 ],
 "metadata": {
  "kernelspec": {
   "display_name": "Python 3",
   "language": "python",
   "name": "python3"
  },
  "language_info": {
   "codemirror_mode": {
    "name": "ipython",
    "version": 3
   },
   "file_extension": ".py",
   "mimetype": "text/x-python",
   "name": "python",
   "nbconvert_exporter": "python",
   "pygments_lexer": "ipython3",
   "version": "3.6.9"
  },
  "toc": {
   "base_numbering": 1,
   "nav_menu": {},
   "number_sections": false,
   "sideBar": true,
   "skip_h1_title": true,
   "title_cell": "Table of Contents",
   "title_sidebar": "Contents",
   "toc_cell": false,
   "toc_position": {},
   "toc_section_display": true,
   "toc_window_display": false
  },
  "varInspector": {
   "cols": {
    "lenName": 16,
    "lenType": 16,
    "lenVar": 40
   },
   "kernels_config": {
    "python": {
     "delete_cmd_postfix": "",
     "delete_cmd_prefix": "del ",
     "library": "var_list.py",
     "varRefreshCmd": "print(var_dic_list())"
    },
    "r": {
     "delete_cmd_postfix": ") ",
     "delete_cmd_prefix": "rm(",
     "library": "var_list.r",
     "varRefreshCmd": "cat(var_dic_list()) "
    }
   },
   "types_to_exclude": [
    "module",
    "function",
    "builtin_function_or_method",
    "instance",
    "_Feature"
   ],
   "window_display": false
  }
 },
 "nbformat": 4,
 "nbformat_minor": 4
}
